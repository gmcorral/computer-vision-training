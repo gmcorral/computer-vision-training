{
  "metadata" : {
    "kernelspec" : {
      "display_name" : "Python 2",
      "language" : "python",
      "name" : "python2"
    },
    "language_info" : {
      "file_extension" : ".py",
      "mimetype" : "text/x-python",
      "name" : "python"
    }
  },
  "nbformat" : 4,
  "nbformat_minor" : 2,
  "cells" : [ {
    "cell_type" : "markdown",
    "metadata" : { },
    "source" : [ "![MLA Logo](https://drive.corp.amazon.com/view/mrruckma@/MLA_headerv2.png?download=true)" ]
  }, {
    "cell_type" : "markdown",
    "metadata" : { },
    "source" : [ "# [Machine Learning Accelerator](https://w.amazon.com/index.php/MLSciences/Community/Education/MLAccelerator)\n\n## Thank You's \nA special thank you to [Petar Butkovic, InTech](https://phonetool.amazon.com/users/petarb) and [Nisha Menon, Hyd Ops](https://phonetool.amazon.com/users/nisham) for building this dataset.\n\n\n## Loading the Data into Eider:\nSince we got some people asking about best ways to import into Eider, I thought we'd go one step further and make it trivial to import!  Below is a snippet for loading and and taking a look at the dataset via S3 below. It's highly recommended to use the below method to avoid a needless local import. \n\n* Here's some documentation from the Eider team in case you want to import from local on a separate project: [UserFileUpload](https://w.amazon.com/index.php/Eider/Documentation/UserFileUpload)" ]
  }, {
    "cell_type" : "markdown",
    "metadata" : { },
    "source" : [ "# Computer Vision I\r\n\r\n## Day 1 Final Project Goals - [CV I Curriculum](https://w.amazon.com/bin/view/MLSciences/Community/Education/MLAccelerator/Curriculum/#HComputerVisionI) and [MLA Learning Platform Walkthrough](https://mla.corp.amazon.com/computer-vision-i/day-1-computer-vision/final-project/)\r\n* Hands-on development with Eider, and learn about NumPy, SciPy, Sci-kit Learn and Keras.\r\n* ML Life-cycle\r\n* Data pre-processing\r\n* Class imbalance fix\r\n* Data Augmentation\r\n* Image representation\r\n* Image Filtering and convolution\r\n* Neural Networks\r\n* Convolutional Neural Networks\r\n\r\n## Deliverables\r\n* **Submit your model's .csv output to the class Leaderboard before the start of the next class' lecture. For Day 3, you can submit as long as the Leaderboard is open (usually it closes at 5pm PST the day after). A full description of the business problem is available [here on the MLA Learning Platform Final Project Walkthrough](https://mla.corp.amazon.com/computer-vision-i/day-1-computer-vision/final-project/)**\r\n\r\n## Resources\r\nHere are a some resources that might be of interest while working on this project. Of particular note is [Eider Expo](https://eider.corp.amazon.com/expo) which lets you search for notebooks that demonstrate particular libraries or concepts.\r\n\r\n* Scikit-learn\r\n    * [Quick-Start tutorial](http://scikit-learn.org/stable/tutorial/basic/tutorial.html)\r\n    * [User Guide](http://scikit-learn.org/stable/user_guide.html)\r\n    * [Chosing the right estimator](http://scikit-learn.org/stable/tutorial/machine_learning_map/index.html)\r\n    * [API](http://scikit-learn.org/stable/modules/classes.html)\r\n* SciPy\r\n    * [Getting Started](https://www.scipy.org/)\r\n    * [Documentation](https://www.scipy.org/docs.html)\r\n* matplotlib\r\n    * [Plotting API](http://matplotlib.org/api/pyplot_summary.html)\r\n    * [Gallery](http://matplotlib.org/gallery.html)\r\n* NumPy\r\n    * [API](https://docs.scipy.org/doc/numpy/reference/routines.html)\r\n* Eider\r\n    * [User guide documentation](https://w.amazon.com/index.php/Eider/Documentation)\r\n    * [Expo](https://eider.corp.amazon.com/expo)" ]
  }, {
    "cell_type" : "code",
    "execution_count" : 0,
    "outputs" : [ ],
    "metadata" : { },
    "source" : [ " # Let's ensure we're using Eider's permissions with Eider's Credential cell below:" ]
  }, {
    "cell_type" : "code",
    "execution_count" : 0,
    "outputs" : [ ],
    "metadata" : { },
    "source" : [ "#Let's read in our training data. ASINs correspond to those in Leaderboard's ID.\nimport pandas as pd\neider.s3.download(\"s3://eider-datasets/mlu/projects/MLACVIFinalProject/training_data.pkl\", \"/tmp/training_data.pkl\")\n\t\ndf = pd.read_pickle(\"/tmp/training_data.pkl\")" ]
  }, {
    "cell_type" : "markdown",
    "metadata" : { },
    "source" : [ "### Onboarding MLA's GPU Cluster\n\nAre your models taking too long to train? MLA provides a single [p2.xLarge](https://aws.amazon.com/ec2/instance-types/p2/) instance to students for the duration of the course. See the [MLA Learning Platform](https://mla.corp.amazon.com/computer-vision-i/day-1-computer-vision/libraries-and-frameworks/) for directions on onboarding to our GPU cluster. Please exercise frugality when using the cluster" ]
  }, {
    "cell_type" : "code",
    "execution_count" : 0,
    "outputs" : [ ],
    "metadata" : { },
    "source" : [ "#Let's see what kind of data we're working with\r\nimport matplotlib.pyplot as plt\r\n\r\nplt.imshow(df['data'][90])" ]
  }, {
    "cell_type" : "markdown",
    "metadata" : { },
    "source" : [ "Our labels correspondend to the following:\n\n* Class 0: *Inconclusive*\n* Class 1: *Two wheels*\n* Class 2: *Four wheels*\n* Class 3: *Not luggage*\n* Class 4: *Zero wheels*" ]
  }, {
    "cell_type" : "code",
    "execution_count" : 0,
    "outputs" : [ ],
    "metadata" : { },
    "source" : [ "# Let's take a look at this data in more detail and then start working. Remember 'label' is our target variable/column\ndf.loc[90]" ]
  }, {
    "cell_type" : "markdown",
    "metadata" : { },
    "source" : [ "### You're all set to get started. Remember you can refer back to the class lectures and Learning Platform. See below for the dataset that you need to predict and submit and directions on how to export from Eider and import into Leaderboard" ]
  }, {
    "cell_type" : "code",
    "execution_count" : 0,
    "outputs" : [ ],
    "metadata" : { },
    "source" : [ "# If you're unsure of how to submit to Leaderboard, no problemo.You'll use the training file loaded above to make your ML model and then predict on the files below:\neider.s3.download(\"s3://eider-datasets/mlu/projects/MLACVIFinalProject/test_data.pkl\", \"/tmp/test_data.pkl\")\ntest = pd.read_pickle(\"/tmp/test_data.pkl\")\nplt.imshow(test['data'][90])" ]
  }, {
    "cell_type" : "code",
    "execution_count" : 0,
    "outputs" : [ ],
    "metadata" : { },
    "source" : [ "# Below is an example submission of a very poor model\neider.s3.download(\"s3://eider-datasets/mlu/projects/MLACVIFinalProject/MLA CV I Sample Model Output.csv\", \"/tmp/MLA CV I Sample Model Output.csv\")\ntest_submission = pd.read_csv('/tmp/MLA CV I Sample Model Output.csv', header=0)\ntest_submission.head(5)" ]
  }, {
    "cell_type" : "code",
    "execution_count" : 0,
    "outputs" : [ ],
    "metadata" : { },
    "source" : [ "# Now let's write the dataframe as a new file to save as a prediction to upload to Leaderboard\ntest_submission.to_csv(\"tmp/MLA CV I Sample Model Output.csv\", encoding='utf-8', index=False)" ]
  }, {
    "cell_type" : "markdown",
    "metadata" : { },
    "source" : [ "You should now be able to see in your Eider TMP File section [here](https://eider.corp.amazon.com/file). To save locally follow the steps below or just select 'Save' to the corresponding file to save permanently in the Eider 'Files' section. You can then locally download the file. " ]
  }, {
    "cell_type" : "markdown",
    "metadata" : { },
    "source" : [ "## Getting our model output out of Eider and into Leaderboard\nGreat. Now we have a dummie sample submission in Eider that we now need to export locally so that we may then upload to Leaderboard in the following steps:\n1. Within the Eider console top bar, select [Files](https://eider.corp.amazon.com/file)\n2. You should now see 'Files', 'TMP' and 'Exported notebooks' tabs. \n3. Select 'TMP' then select 'Connect to workspace'. You should now see any files from your last run of your workspace. If there was no 'Connect to workspace' option, your files from the last run should already be present. *Files in the 'TMP' should be considered temporary as they will expire after an hour's worth of idle time.*\n4. Go to the 'MLA CVI I Sample Model Output.csv' file and select Save\n5. This file will now be permanently saved to your Eider account and available for local download from the 'Files' tab via the download button.\n\nWe now have our model's output .csv and are ready to upload to Leaderboard\n1. Search for your class [Leaderboard instance](https://leaderboard.corp.amazon.com/) and go to the 'Make a Submission' section\n2. Upload your local file and include your notebook version URL for tracking\n3. Your score on the public leaderboard should now appear. Marvel on how much room for improvement there is" ]
  }, {
    "cell_type" : "markdown",
    "metadata" : { },
    "source" : [ "## Eider Notice - Notebook Commenting \nEider has launched a new experience for adding comments in read-only notebooks and it's currently in Limited Beta. You'll be able to discuss the fional project and comment on your classmate's work! To try out this experience, share a [*versioned*](https://w.amazon.com/index.php/Eider/Documentation#Notebook_Versions) notebook with your classmates via the Chime group or some other medium. \n\n### Not seeing the \"SHOW COMMENTS\" option in your read-only notebook?\nIf you don't see the \"SHOW COMMENTS\" option in your read-only notebook, please [SIGN UP HERE](https://quip-amazon.com/ggIlANowXeHD) and we will add you into the Beta group ASAP.\n\nFor more information and updates on this feature, check out the Notebook Commenting Wiki [HERE](https://w.amazon.com/bin/view/Eider/Docs/NotebookCommenting/)." ]
  } ]
}